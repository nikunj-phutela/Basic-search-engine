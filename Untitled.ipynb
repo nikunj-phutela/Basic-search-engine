{
 "cells": [
  {
   "cell_type": "code",
   "execution_count": 2,
   "metadata": {},
   "outputs": [
    {
     "name": "stderr",
     "output_type": "stream",
     "text": [
      "ERROR:root:Internal Python error in the inspect module.\n",
      "Below is the traceback from this internal error.\n",
      "\n"
     ]
    },
    {
     "name": "stdout",
     "output_type": "stream",
     "text": [
      "Traceback (most recent call last):\n",
      "  File \"/Users/Manam/anaconda3/lib/python3.7/site-packages/IPython/core/interactiveshell.py\", line 3325, in run_code\n",
      "    exec(code_obj, self.user_global_ns, self.user_ns)\n",
      "  File \"<ipython-input-2-f75901d30acf>\", line 1, in <module>\n",
      "    from elasticsearch import Elasticsearch\n",
      "  File \"/Users/Manam/anaconda3/lib/python3.7/site-packages/elasticsearch/__init__.py\", line 32, in <module>\n",
      "    from .client import Elasticsearch\n",
      "  File \"/Users/Manam/anaconda3/lib/python3.7/site-packages/elasticsearch/client/__init__.py\", line 22, in <module>\n",
      "    from ..transport import Transport, TransportError\n",
      "  File \"/Users/Manam/anaconda3/lib/python3.7/site-packages/elasticsearch/transport.py\", line 23, in <module>\n",
      "    from .serializer import JSONSerializer, Deserializer, DEFAULT_SERIALIZERS\n",
      "  File \"/Users/Manam/anaconda3/lib/python3.7/site-packages/elasticsearch/serializer.py\", line 59, in <module>\n",
      "    import pandas as pd\n",
      "  File \"/Users/Manam/anaconda3/lib/python3.7/site-packages/pandas/__init__.py\", line 42, in <module>\n",
      "    from pandas.core.api import *\n",
      "  File \"/Users/Manam/anaconda3/lib/python3.7/site-packages/pandas/core/api.py\", line 26, in <module>\n",
      "    from pandas.core.groupby import Grouper\n",
      "  File \"/Users/Manam/anaconda3/lib/python3.7/site-packages/pandas/core/groupby/__init__.py\", line 1, in <module>\n",
      "    from pandas.core.groupby.groupby import GroupBy  # noqa: F401\n",
      "  File \"/Users/Manam/anaconda3/lib/python3.7/site-packages/pandas/core/groupby/groupby.py\", line 37, in <module>\n",
      "    from pandas.core.frame import DataFrame\n",
      "  File \"/Users/Manam/anaconda3/lib/python3.7/site-packages/pandas/core/frame.py\", line 100, in <module>\n",
      "    from pandas.core.series import Series\n",
      "  File \"/Users/Manam/anaconda3/lib/python3.7/site-packages/pandas/core/series.py\", line 51, in <module>\n",
      "    import pandas.plotting._core as gfx\n",
      "  File \"/Users/Manam/anaconda3/lib/python3.7/site-packages/pandas/plotting/__init__.py\", line 11, in <module>\n",
      "    from pandas.plotting._core import boxplot\n",
      "  File \"/Users/Manam/anaconda3/lib/python3.7/site-packages/pandas/plotting/_core.py\", line 36, in <module>\n",
      "    from pandas.plotting import _converter\n",
      "  File \"/Users/Manam/anaconda3/lib/python3.7/site-packages/pandas/plotting/_converter.py\", line 6, in <module>\n",
      "    import matplotlib.dates as dates\n",
      "  File \"/Users/Manam/anaconda3/lib/python3.7/site-packages/matplotlib/__init__.py\", line 1003, in <module>\n",
      "    rcParams = rc_params()\n",
      "  File \"/Users/Manam/anaconda3/lib/python3.7/site-packages/matplotlib/__init__.py\", line 867, in rc_params\n",
      "    return rc_params_from_file(matplotlib_fname(), fail_on_error)\n",
      "  File \"/Users/Manam/anaconda3/lib/python3.7/site-packages/matplotlib/__init__.py\", line 684, in matplotlib_fname\n",
      "    for fname in gen_candidates():\n",
      "  File \"/Users/Manam/anaconda3/lib/python3.7/site-packages/matplotlib/__init__.py\", line 673, in gen_candidates\n",
      "    yield os.path.join(os.getcwd(), 'matplotlibrc')\n",
      "FileNotFoundError: [Errno 2] No such file or directory\n",
      "\n",
      "During handling of the above exception, another exception occurred:\n",
      "\n",
      "Traceback (most recent call last):\n",
      "  File \"/Users/Manam/anaconda3/lib/python3.7/site-packages/IPython/core/interactiveshell.py\", line 2039, in showtraceback\n",
      "    stb = value._render_traceback_()\n",
      "AttributeError: 'FileNotFoundError' object has no attribute '_render_traceback_'\n",
      "\n",
      "During handling of the above exception, another exception occurred:\n",
      "\n",
      "Traceback (most recent call last):\n",
      "  File \"/Users/Manam/anaconda3/lib/python3.7/site-packages/IPython/core/ultratb.py\", line 1101, in get_records\n",
      "    return _fixed_getinnerframes(etb, number_of_lines_of_context, tb_offset)\n",
      "  File \"/Users/Manam/anaconda3/lib/python3.7/site-packages/IPython/core/ultratb.py\", line 319, in wrapped\n",
      "    return f(*args, **kwargs)\n",
      "  File \"/Users/Manam/anaconda3/lib/python3.7/site-packages/IPython/core/ultratb.py\", line 353, in _fixed_getinnerframes\n",
      "    records = fix_frame_records_filenames(inspect.getinnerframes(etb, context))\n",
      "  File \"/Users/Manam/anaconda3/lib/python3.7/inspect.py\", line 1502, in getinnerframes\n",
      "    frameinfo = (tb.tb_frame,) + getframeinfo(tb, context)\n",
      "  File \"/Users/Manam/anaconda3/lib/python3.7/inspect.py\", line 1460, in getframeinfo\n",
      "    filename = getsourcefile(frame) or getfile(frame)\n",
      "  File \"/Users/Manam/anaconda3/lib/python3.7/inspect.py\", line 696, in getsourcefile\n",
      "    if getattr(getmodule(object, filename), '__loader__', None) is not None:\n",
      "  File \"/Users/Manam/anaconda3/lib/python3.7/inspect.py\", line 725, in getmodule\n",
      "    file = getabsfile(object, _filename)\n",
      "  File \"/Users/Manam/anaconda3/lib/python3.7/inspect.py\", line 709, in getabsfile\n",
      "    return os.path.normcase(os.path.abspath(_filename))\n",
      "  File \"/Users/Manam/anaconda3/lib/python3.7/posixpath.py\", line 383, in abspath\n",
      "    cwd = os.getcwd()\n",
      "FileNotFoundError: [Errno 2] No such file or directory\n"
     ]
    },
    {
     "ename": "FileNotFoundError",
     "evalue": "[Errno 2] No such file or directory",
     "output_type": "error",
     "traceback": [
      "\u001b[0;31m---------------------------------------------------------------------------\u001b[0m"
     ]
    }
   ],
   "source": [
    "from elasticsearch import Elasticsearch\n",
    "es = Elasticsearch([{'host': 'localhost', 'port': 9200}])\n",
    "es"
   ]
  },
  {
   "cell_type": "code",
   "execution_count": null,
   "metadata": {},
   "outputs": [],
   "source": []
  }
 ],
 "metadata": {
  "kernelspec": {
   "display_name": "Python 3",
   "language": "python",
   "name": "python3"
  },
  "language_info": {
   "codemirror_mode": {
    "name": "ipython",
    "version": 3
   },
   "file_extension": ".py",
   "mimetype": "text/x-python",
   "name": "python",
   "nbconvert_exporter": "python",
   "pygments_lexer": "ipython3",
   "version": "3.7.3"
  }
 },
 "nbformat": 4,
 "nbformat_minor": 2
}
